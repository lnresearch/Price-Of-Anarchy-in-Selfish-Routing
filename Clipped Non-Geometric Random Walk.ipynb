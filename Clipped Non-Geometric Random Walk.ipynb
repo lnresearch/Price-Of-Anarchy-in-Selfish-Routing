{
 "cells": [
  {
   "cell_type": "markdown",
   "metadata": {},
   "source": [
    "# Clipped Non-Geometric Random Walk"
   ]
  },
  {
   "cell_type": "markdown",
   "metadata": {},
   "source": [
    "### Degenerate Case: Geometric Random Walk\n",
    "- This in general will not help us, but we decided to start here as it is a well-researched problem"
   ]
  },
  {
   "cell_type": "markdown",
   "metadata": {},
   "source": [
    "Let p be a probability and $q$ = $1-p$. Let W be a random 1-dimensional walk that is balanced such that $p$ = $0.5$ and $q$ = $0.5$. In this case, we expect that the walk returns to the origin in some time $t$ after $n$ number of steps."
   ]
  },
  {
   "cell_type": "markdown",
   "metadata": {},
   "source": [
    "- Normal Distribution"
   ]
  },
  {
   "cell_type": "markdown",
   "metadata": {},
   "source": [
    "We start at position 0. \n",
    "With a symmetric walk ie. p = 0.5 and q = 0.5, we get with probability 1 the expectation that we return to 0."
   ]
  },
  {
   "cell_type": "markdown",
   "metadata": {},
   "source": [
    "If we start at $S_0$ as our first step, what is the probability that we are back at $S_0$ after $n$ steps?\n",
    "(In our case, our value for $n$ is 10,000).\n",
    "We start with a finite walk represented as $X_n$, andour sample path is stochastic and can be represented iid as $X_0, X_1,...X_n$ for our walk up to a finite number of steps $n$."
   ]
  },
  {
   "cell_type": "markdown",
   "metadata": {},
   "source": [
    "This is well studied and is given as, for $2n$ steps where $n$ is odd and $2n$ is even\n"
   ]
  },
  {
   "cell_type": "markdown",
   "metadata": {},
   "source": [
    "$P(S_{2n} = 2j)$ = $2n \\choose n$ $\\times$ $2^{-2n}$ = $\\frac{2n!}{n!n!}$ $\\times$ $2^{-2n}$"
   ]
  },
  {
   "cell_type": "markdown",
   "metadata": {},
   "source": [
    "For our purposes this means that if p=0.5 and q=0.5 we expect an equal likelihood of the frequency of our distribution of count for steps $n$ over a time $t$."
   ]
  },
  {
   "cell_type": "markdown",
   "metadata": {},
   "source": [
    "### Degenerate Case: Clipped Geometric Random Walk"
   ]
  },
  {
   "cell_type": "markdown",
   "metadata": {},
   "source": [
    "We consider the case of the clipped random walk. \n",
    "We clip at some point, $\\tau$\n",
    "We expect this to be the mean of our distribution, so this will clip at $\\mu$.\n",
    "This gives us a one-sided random walk up to our max value, without returning to the origin.\n",
    "So we get that:"
   ]
  },
  {
   "cell_type": "markdown",
   "metadata": {},
   "source": [
    "We expect our max possible position of our channel, called $P_{max}$ to be 100."
   ]
  },
  {
   "cell_type": "markdown",
   "metadata": {},
   "source": [
    "For each step, we have a choice of either going left or right, so that to return to our origin, we expect that we can +1 or -1, so we use $2n$ to represent this symmetrical constraint.\n",
    "$P(S_{2n})$ at our finite time $t$ is $P_{max}$"
   ]
  },
  {
   "cell_type": "markdown",
   "metadata": {},
   "source": [
    "We expect our count in this case to mimic a normal distribution so that:\n",
    "Let our count/frequency be $\\pi$.\n"
   ]
  },
  {
   "cell_type": "markdown",
   "metadata": {},
   "source": [
    "When we clip this value at our clipping value $\\tau$ we get"
   ]
  },
  {
   "cell_type": "markdown",
   "metadata": {},
   "source": [
    "doesn't initially start at 0****"
   ]
  },
  {
   "cell_type": "markdown",
   "metadata": {},
   "source": [
    "### Non-Degenerate random walk case"
   ]
  },
  {
   "cell_type": "markdown",
   "metadata": {},
   "source": []
  },
  {
   "cell_type": "markdown",
   "metadata": {},
   "source": [
    "### Non-Degenerate random walk with clipping"
   ]
  },
  {
   "cell_type": "code",
   "execution_count": null,
   "metadata": {},
   "outputs": [],
   "source": []
  },
  {
   "cell_type": "markdown",
   "metadata": {},
   "source": [
    "## Simulation of Mathematical Model"
   ]
  },
  {
   "cell_type": "code",
   "execution_count": 1,
   "metadata": {},
   "outputs": [],
   "source": [
    "## Import Libraries\n",
    "import numpy as np\n",
    "import pandas as pd\n",
    "import random\n",
    "from matplotlib import pyplot as plt"
   ]
  },
  {
   "cell_type": "code",
   "execution_count": 2,
   "metadata": {},
   "outputs": [],
   "source": [
    "number_of_steps = 100_000\n",
    "capacity = 100\n",
    "position = 0\n",
    "go_right = 0.51\n",
    "go_left = 1 - go_right"
   ]
  },
  {
   "cell_type": "code",
   "execution_count": 3,
   "metadata": {},
   "outputs": [],
   "source": [
    "number_of_walks = 1_000\n",
    "\n",
    "positions={n:[] for n in range(number_of_steps)}\n",
    "\n",
    "for i in range(number_of_walks):\n",
    "    position=50#int(random.random()*capacity+0.5)\n",
    "    for step in range(number_of_steps):\n",
    "        p = random.random()\n",
    "        if p < go_right and position < capacity:\n",
    "            position +=1\n",
    "        if p >= go_right and position > 0:\n",
    "            position -= 1\n",
    "        positions[step].append(position)"
   ]
  },
  {
   "cell_type": "code",
   "execution_count": 5,
   "metadata": {},
   "outputs": [
    {
     "data": {
      "image/png": "[encoded data removed]",
      "text/plain": [
       "<Figure size 432x288 with 1 Axes>"
      ]
     },
     "metadata": {
      "needs_background": "light"
     },
     "output_type": "display_data"
    }
   ],
   "source": [
    "plt.title(\"Distribution of positions of the contrainted random walk after 100_000 steps\")\n",
    "plt.hist(positions[number_of_steps-1],bins=1000)\n",
    "plt.grid()\n",
    "plt.xlim(0,100)\n",
    "plt.xlabel(\"position\")\n",
    "plt.ylabel(\"number occurances / frequency\")\n",
    "plt.show()"
   ]
  },
  {
   "cell_type": "code",
   "execution_count": 4,
   "metadata": {},
   "outputs": [
    {
     "data": {
      "image/png": "[encoded data removed]",
      "text/plain": [
       "<Figure size 432x288 with 1 Axes>"
      ]
     },
     "metadata": {
      "needs_background": "light"
     },
     "output_type": "display_data"
    }
   ],
   "source": [
    "plt.title(\"Distribution of positions of the contrainted random walk after 100_000 steps\")\n",
    "plt.hist(positions[number_of_steps-1],bins=1000)\n",
    "plt.grid()\n",
    "plt.xlim(0,100)\n",
    "plt.xlabel(\"position\")\n",
    "plt.ylabel(\"number occurances / frequency\")\n",
    "plt.show()"
   ]
  },
  {
   "cell_type": "code",
   "execution_count": 15,
   "metadata": {},
   "outputs": [
    {
     "data": {
      "image/png": "[encoded data removed]",
      "text/plain": [
       "<Figure size 432x288 with 1 Axes>"
      ]
     },
     "metadata": {
      "needs_background": "light"
     },
     "output_type": "display_data"
    }
   ],
   "source": [
    "plt.title(\"Distribution of positions of the contrainted random walk after 100_000 steps\")\n",
    "plt.hist(positions[number_of_steps-1],bins=1000)\n",
    "plt.grid()\n",
    "plt.xlim(90,100)\n",
    "plt.xlabel(\"position\")\n",
    "plt.ylabel(\"number occurances / frequency\")\n",
    "plt.show()"
   ]
  },
  {
   "cell_type": "markdown",
   "metadata": {},
   "source": [
    "As expected, we obtain an equal likelihood of one direction vs the next, so the number of occurrences or frequency for each position is more or less not converging to a single value."
   ]
  },
  {
   "cell_type": "markdown",
   "metadata": {},
   "source": [
    "## Generated Model\n",
    "- Code is provided by Rene in his notebook here: https://github.com/lnresearch/Price-Of-Anarchy-in-Selfish-Routing/blob/main/Constrained%20Random%20Walk%20Example.ipynb"
   ]
  },
  {
   "cell_type": "code",
   "execution_count": 3,
   "metadata": {},
   "outputs": [],
   "source": [
    "import random\n",
    "import matplotlib.pyplot as plt"
   ]
  },
  {
   "cell_type": "code",
   "execution_count": 4,
   "metadata": {},
   "outputs": [],
   "source": [
    "number_of_steps = 100_000\n",
    "capacity = 100\n",
    "position = 0\n",
    "go_right = 0.6\n",
    "go_left = 1 - go_right"
   ]
  },
  {
   "cell_type": "code",
   "execution_count": 5,
   "metadata": {},
   "outputs": [],
   "source": [
    "number_of_walks = 1_000\n",
    "\n",
    "positions={n:[] for n in range(number_of_steps)}\n",
    "\n",
    "for i in range(number_of_walks):\n",
    "    position=int(random.random()*capacity+0.5)\n",
    "    for step in range(number_of_steps):\n",
    "        p = random.random()\n",
    "        if p < go_right and position < capacity:\n",
    "            position +=1\n",
    "        if p >= go_right and position > 0:\n",
    "            position -= 1\n",
    "        positions[step].append(position)"
   ]
  },
  {
   "cell_type": "code",
   "execution_count": 6,
   "metadata": {},
   "outputs": [
    {
     "data": {
      "image/png": "[encoded data removed]",
      "text/plain": [
       "<Figure size 432x288 with 1 Axes>"
      ]
     },
     "metadata": {
      "needs_background": "light"
     },
     "output_type": "display_data"
    }
   ],
   "source": [
    "plt.title(\"Distribution of positions of the contrainted random walk after 100_000 steps\")\n",
    "plt.hist(positions[number_of_steps-1],bins=100)\n",
    "plt.grid()\n",
    "plt.xlim(90,100)\n",
    "plt.xlabel(\"position\")\n",
    "plt.ylabel(\"number occurances / frequency\")\n",
    "plt.show()"
   ]
  },
  {
   "cell_type": "code",
   "execution_count": 2,
   "metadata": {},
   "outputs": [],
   "source": [
    "# Placement for now, starting with first "
   ]
  },
  {
   "cell_type": "code",
   "execution_count": null,
   "metadata": {},
   "outputs": [],
   "source": [
    "# plt.title(\"Distribution takes some steps to stableize\")\n",
    "# for i in range(1,10):\n",
    "#     steps = 2**i\n",
    "#     plt.hist(positions[steps],bins=100,density=True, cumulative=True, histtype=\"step\",linewidth=2, label=\"after {} steps\".format(steps))\n",
    "# plt.legend(loc = \"upper left\")\n",
    "# plt.grid()\n",
    "# plt.xlim(0,100)\n",
    "# plt.xlabel(\"position\")\n",
    "# plt.ylabel(\"CDF\")"
   ]
  },
  {
   "cell_type": "code",
   "execution_count": null,
   "metadata": {},
   "outputs": [],
   "source": [
    "# plt.title(\"CDF of channel position of random walk after x steps\")\n",
    "# for i in range(9,17):\n",
    "#     steps = 2**i\n",
    "#     plt.hist(positions[steps],bins=100,density=True, cumulative=True, histtype=\"step\",linewidth=2, label=\"after {} steps\".format(steps))\n",
    "\n",
    "# plt.legend(loc = \"upper left\")\n",
    "# plt.grid()\n",
    "# plt.xlabel(\"position\")\n",
    "# plt.xlim(90,100)\n",
    "# plt.ylabel(\"CDF\")\n",
    "# plt.show()"
   ]
  },
  {
   "cell_type": "markdown",
   "metadata": {},
   "source": [
    "## Comparison of Models\n",
    "- This might be a good idea to show error between models, namely between our Mathematical Clipped model and our Generated model"
   ]
  },
  {
   "cell_type": "code",
   "execution_count": null,
   "metadata": {},
   "outputs": [],
   "source": []
  }
 ],
 "metadata": {
  "kernelspec": {
   "display_name": "Python 3",
   "language": "python",
   "name": "python3"
  },
  "language_info": {
   "codemirror_mode": {
    "name": "ipython",
    "version": 3
   },
   "file_extension": ".py",
   "mimetype": "text/x-python",
   "name": "python",
   "nbconvert_exporter": "python",
   "pygments_lexer": "ipython3",
   "version": "3.7.3"
  }
 },
 "nbformat": 4,
 "nbformat_minor": 4
}
